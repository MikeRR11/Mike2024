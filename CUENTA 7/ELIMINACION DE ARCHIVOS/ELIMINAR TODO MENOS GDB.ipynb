{
 "cells": [
  {
   "cell_type": "code",
   "execution_count": null,
   "metadata": {},
   "outputs": [],
   "source": [
    "import os\n",
    "ruta = r\"C:\\Users\\michael.rojas\\Documents\\prueba\"\n",
    "def depurar_ruta(ruta):\n",
    "    # Recorrer todas las subcarpetas y archivos de la ruta especificada\n",
    "    for dirpath, dirnames, filenames in os.walk(ruta):\n",
    "        # Comprobar si el directorio actual es una geodatabase\n",
    "        if dirpath.endswith('.gdb'):\n",
    "            continue  # Saltar el procesamiento de archivos dentro de carpetas .gdb\n",
    "\n",
    "        # Recorrer todos los archivos en cada carpeta\n",
    "        for filename in filenames:\n",
    "            # Obtener la ruta completa del archivo\n",
    "            file_path = os.path.join(dirpath, filename)\n",
    "            try:\n",
    "                # Eliminar el archivo si no está dentro de una carpeta .gdb\n",
    "                os.remove(file_path)\n",
    "                print(f\"Archivo eliminado: {file_path}\")\n",
    "            except Exception as e:\n",
    "                print(f\"No se pudo eliminar el archivo: {file_path}. Error: {e}\")\n",
    "\n",
    "    # Repetir la eliminación de carpetas vacías hasta que no queden\n",
    "    carpetas_vacias = True\n",
    "    while carpetas_vacias:\n",
    "        carpetas_vacias = False\n",
    "        for dirpath, dirnames, filenames in os.walk(ruta, topdown=False):\n",
    "            # Saltar geodatabases\n",
    "            if dirpath.endswith('.gdb'):\n",
    "                continue\n",
    "\n",
    "            # Si el directorio está vacío, eliminarlo\n",
    "            if not dirnames and not filenames:\n",
    "                try:\n",
    "                    os.rmdir(dirpath)\n",
    "                    print(f\"Carpeta vacía eliminada: {dirpath}\")\n",
    "                    carpetas_vacias = True  # Aún hay carpetas para eliminar\n",
    "                except Exception as e:\n",
    "                    print(f\"No se pudo eliminar la carpeta: {dirpath}. Error: {e}\")\n",
    "\n",
    "\n",
    "depurar_ruta(ruta)\n"
   ]
  }
 ],
 "metadata": {
  "kernelspec": {
   "display_name": "Python 3",
   "language": "python",
   "name": "python3"
  },
  "language_info": {
   "codemirror_mode": {
    "name": "ipython",
    "version": 3
   },
   "file_extension": ".py",
   "mimetype": "text/x-python",
   "name": "python",
   "nbconvert_exporter": "python",
   "pygments_lexer": "ipython3",
   "version": "3.11.7"
  }
 },
 "nbformat": 4,
 "nbformat_minor": 2
}
