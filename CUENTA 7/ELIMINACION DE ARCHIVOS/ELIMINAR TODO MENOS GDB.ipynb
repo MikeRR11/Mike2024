{
 "cells": [
  {
   "cell_type": "code",
   "execution_count": 14,
   "metadata": {},
   "outputs": [
    {
     "name": "stdout",
     "output_type": "stream",
     "text": [
      "Archivo eliminado: C:\\Users\\michael.rojas\\Documents\\prueba\\deteccion v2\\Detección de vectores desconectados V2 (1).atbx\n",
      "Archivo eliminado: C:\\Users\\michael.rojas\\Documents\\prueba\\deteccion v2\\Detección de vectores desconectados V2.1.atbx\n",
      "Archivo eliminado: C:\\Users\\michael.rojas\\Documents\\prueba\\deteccion v2\\Detección de vectores desconectados.atbx\n",
      "Archivo eliminado: C:\\Users\\michael.rojas\\Documents\\prueba\\deteccion v2\\Detección de vías desconectadas.atbx\n",
      "Archivo eliminado: C:\\Users\\michael.rojas\\Documents\\prueba\\deteccion v2\\La_Macarena_P29_10K_ED.gdb.zip\n",
      "Archivo eliminado: C:\\Users\\michael.rojas\\Documents\\prueba\\deteccion v2\\tif.aux.xml\n",
      "Archivo eliminado: C:\\Users\\michael.rojas\\Documents\\prueba\\deteccion v2\\tif.ovr\n",
      "Archivo eliminado: C:\\Users\\michael.rojas\\Documents\\prueba\\deteccion v2\\lau\\La_Macarena_P29_10K_ED.gdb.zip\n",
      "Archivo eliminado: C:\\Users\\michael.rojas\\Documents\\prueba\\deteccion v2\\lau\\Vias.zip\n"
     ]
    }
   ],
   "source": [
    "import os\n",
    "import shutil\n",
    "\n",
    "ruta = r\"C:\\Users\\michael.rojas\\Documents\\prueba\"\n",
    "\n",
    "def depurar_ruta(ruta):\n",
    "    # Recorrer todas las subcarpetas y archivos de la ruta especificada\n",
    "    for dirpath, dirnames, filenames in os.walk(ruta):\n",
    "        # Comprobar si el directorio actual es una geodatabase\n",
    "        if dirpath.endswith('.gdb'):\n",
    "            continue  # Saltar el procesamiento de archivos dentro de carpetas .gdb\n",
    "\n",
    "        # Recorrer todos los archivos en cada carpeta\n",
    "        for filename in filenames:\n",
    "            # Obtener la ruta completa del archivo\n",
    "            file_path = os.path.join(dirpath, filename)\n",
    "            try:\n",
    "                # Eliminar el archivo si no está dentro de una carpeta .gdb\n",
    "                os.remove(file_path)\n",
    "                print(f\"Archivo eliminado: {file_path}\")\n",
    "            except Exception as e:\n",
    "                print(f\"No se pudo eliminar el archivo: {file_path}. Error: {e}\")\n",
    "\n",
    "\n",
    "depurar_ruta(ruta)\n"
   ]
  }
 ],
 "metadata": {
  "kernelspec": {
   "display_name": "Python 3",
   "language": "python",
   "name": "python3"
  },
  "language_info": {
   "codemirror_mode": {
    "name": "ipython",
    "version": 3
   },
   "file_extension": ".py",
   "mimetype": "text/x-python",
   "name": "python",
   "nbconvert_exporter": "python",
   "pygments_lexer": "ipython3",
   "version": "3.11.7"
  }
 },
 "nbformat": 4,
 "nbformat_minor": 2
}
