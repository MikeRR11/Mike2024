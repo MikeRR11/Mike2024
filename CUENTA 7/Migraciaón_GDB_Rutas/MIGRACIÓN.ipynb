{
 "cells": [
  {
   "cell_type": "code",
   "execution_count": 2,
   "metadata": {},
   "outputs": [
    {
     "name": "stdout",
     "output_type": "stream",
     "text": [
      "Rutas cargadas desde C:\\Users\\michael.rojas\\Documents\\RUTAS.xlsx:\n",
      "\n",
      "                                               RUTAS\n",
      "0  C:\\Users\\michael.rojas\\Documents\\Centros\\Centr...\n",
      "1  C:\\Users\\michael.rojas\\Documents\\Centros\\Centr...\n"
     ]
    }
   ],
   "source": [
    "import os\n",
    "import shutil\n",
    "import pandas as pd\n",
    "\n",
    "# Ruta al archivo de Excel\n",
    "ruta_excel = r\"C:\\Users\\michael.rojas\\Documents\\RUTAS.xlsx\"\n",
    "\n",
    "# Leer el archivo de Excel\n",
    "try:\n",
    "    df = pd.read_excel(ruta_excel)\n",
    "    print(f\"Rutas cargadas desde {ruta_excel}:\\n\")\n",
    "    print(df)\n",
    "except FileNotFoundError:\n",
    "    print(\"El archivo no fue encontrado en la ruta especificada.\")\n",
    "except Exception as e:\n",
    "    print(f\"Ocurrió un error al leer el archivo: {e}\")"
   ]
  },
  {
   "cell_type": "code",
   "execution_count": 3,
   "metadata": {},
   "outputs": [
    {
     "name": "stdout",
     "output_type": "stream",
     "text": [
      "Carpeta 'C:\\Users\\michael.rojas\\Documents\\Centros\\Centros\\1' copiada a 'C:\\Users\\michael.rojas\\Documents\\copiar'.\n",
      "Carpeta 'C:\\Users\\michael.rojas\\Documents\\Centros\\Centros\\2' copiada a 'C:\\Users\\michael.rojas\\Documents\\copiar'.\n"
     ]
    }
   ],
   "source": [
    "\n",
    "carpeta_destino = r\"C:\\Users\\michael.rojas\\Documents\\copiar\"  # Todas las carpetas se copian aquí\n",
    "\n",
    "# Función para copiar carpetas\n",
    "def copiar_carpeta(origen, destino):\n",
    "    try:\n",
    "        # Verificar si el directorio de destino existe, si no, créalo\n",
    "        if not os.path.exists(destino):\n",
    "            os.makedirs(destino)\n",
    "        \n",
    "        # Copiar carpeta\n",
    "        shutil.copytree(origen, os.path.join(destino, os.path.basename(origen)), dirs_exist_ok=True)\n",
    "        print(f\"Carpeta '{origen}' copiada a '{destino}'.\")\n",
    "    except Exception as e:\n",
    "        print(f\"Error al copiar '{origen}': {e}\")\n",
    "\n",
    "# Migrar carpetas\n",
    "for index, row in df.iterrows():\n",
    "    carpeta_origen = row.iloc[0]  # Usar el valor de la primera columna\n",
    "    copiar_carpeta(carpeta_origen, carpeta_destino)\n"
   ]
  }
 ],
 "metadata": {
  "kernelspec": {
   "display_name": "Python 3",
   "language": "python",
   "name": "python3"
  },
  "language_info": {
   "codemirror_mode": {
    "name": "ipython",
    "version": 3
   },
   "file_extension": ".py",
   "mimetype": "text/x-python",
   "name": "python",
   "nbconvert_exporter": "python",
   "pygments_lexer": "ipython3",
   "version": "3.11.7"
  }
 },
 "nbformat": 4,
 "nbformat_minor": 2
}
